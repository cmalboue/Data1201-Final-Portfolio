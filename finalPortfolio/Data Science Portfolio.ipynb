{
 "cells": [
  {
   "cell_type": "markdown",
   "id": "8f35c2ff",
   "metadata": {},
   "source": [
    "#  - My DS Portfolio -"
   ]
  },
  {
   "cell_type": "markdown",
   "id": "6843c80d",
   "metadata": {},
   "source": [
    "#### Charlotte Malbouef\n",
    "#### Data 1201 Final Exam\n",
    "#### 2023-11-30\n",
    "#### Topic: <i> Analyzing the Popularity of Today’s Artists and Music </i>"
   ]
  },
  {
   "cell_type": "markdown",
   "id": "42cbeacb",
   "metadata": {},
   "source": [
    "Importing the libraries:"
   ]
  },
  {
   "cell_type": "code",
   "execution_count": 61,
   "id": "7005f818",
   "metadata": {},
   "outputs": [],
   "source": [
    "import numpy as np\n",
    "from datascience import *\n",
    "\n",
    "import matplotlib.pyplot as plt\n",
    "plt.style.use(\"ggplot\")\n",
    "%matplotlib inline  "
   ]
  },
  {
   "cell_type": "markdown",
   "id": "43f2a9b1",
   "metadata": {},
   "source": [
    "<hr style=\"border:1px solid black\">\n",
    "\n",
    "##  - Question - \n",
    "### *According to the amount of hit songs and total number of streams on Spotify, who is currently the most listened to artist?*"
   ]
  },
  {
   "cell_type": "markdown",
   "id": "d46f6dd3",
   "metadata": {},
   "source": [
    "&nbsp;&nbsp;&nbsp;&nbsp;&nbsp;&nbsp;For this question, I want to look at data from Spotify Top Charts, and use it to determine the most popular artists of this generation. By looking at the amount of **total streams** a singer has accumulated, and connecting this to **how many hit songs** they have made *(according to the Top Charts on Spotify)*, one can conclude how the artist is perceived amongst the general population of music listeners in terms of their likeability and popularity.\n",
    "\n",
    "\n",
    "&nbsp;&nbsp;&nbsp;&nbsp;&nbsp;&nbsp;I chose this question because I as well as many others listen to Spotify on a daily basis and listening to different singers and the different kinds of art they are able to produce is fascinating. Originally, my question was geared towards finding the most popular music genre, but I realized that it was too broad of a topic because there are so many different genres that overlap and intersect. This would make it hard to group all of the data and find an accurate answer. This question also didn't focus on any specific analytics which would allow for many outliers and variables that could contradict the answer. However, once I had realized the flaws in my initial question, I was able to narrow down the variables and it eventually evolved into a more specific question that I could answer with applicable data. \n",
    "\n",
    "&nbsp;&nbsp;&nbsp;&nbsp;&nbsp;&nbsp;Overall, my scientific goal for answering this question is so I can obtain a general understanding on what or who is deemed trendy and popular in this day and age. This data could then be used as a basis to answering many other complex questions. For example, one could use this data to analyze how the collective music taste has shifted throughout generations. Or, another example being if streams of successful songs truly align with the artist's relevance or fame of this generation. By answering more complex questions, using this data as a stepping stone, it provides material and foundation for more and more questions. Are their song's popular, but not the artists themselves? Do the most liked singers really produce the best or most creative music? Is it the public's bandwagon mentality that makes up certain singers' status? Are they good because everyone else thinks they are, or because they produce good music?\n",
    "\n",
    "&nbsp;&nbsp;&nbsp;&nbsp;&nbsp;&nbsp;Furthermore, one could even use the data to predict future trends or patterns. What would the answer to this question look like in 20 years? What will be the new age of music? Who will still be popular? There are many questions that could use the answer to my question, in order to form predictions towards others. One could even suggest that this information could be used as a tool in finding some kind of formula or pattern that contributes to a singer's current popularity/status. \n",
    "\n",
    "&nbsp;&nbsp;&nbsp;&nbsp;&nbsp;&nbsp;Overall, it is important to ask and answer questions as they can be used to answer even more questions. When using facts and statistics, it can be helpful to use datasets to form a consensus on patterns or trends that can ultimately be used to answer some overarching question. Whether it be a simple one, or really complex, it is important to keep asking questions as they are the gateway to more information and knowledge. \n",
    "\n",
    "\n",
    "<hr style=\"border:1px solid black\">"
   ]
  },
  {
   "cell_type": "markdown",
   "id": "48189100",
   "metadata": {},
   "source": [
    "##  - Getting the Data - "
   ]
  },
  {
   "cell_type": "markdown",
   "id": "9383a716",
   "metadata": {},
   "source": [
    "### What is Needed:"
   ]
  },
  {
   "cell_type": "markdown",
   "id": "81a6eb92",
   "metadata": {},
   "source": [
    "In order to properly answer my question, I need to find a recent dataset of the top streamed songs on Spotify. From there, I would need to analyze this data and get (at most) the top 1000 streamed songs. This would then help me use data from the most relevant artists so I can determine how many songs they have in the top 1000 and take the combined stream total from all of their songs, and then compare them to other artists. As a result, I would Analyze the data from the top 10 Artist's to determine the answer to my question. "
   ]
  },
  {
   "cell_type": "markdown",
   "id": "c4e81471",
   "metadata": {},
   "source": [
    "### Resources:"
   ]
  },
  {
   "cell_type": "markdown",
   "id": "53abde54",
   "metadata": {},
   "source": [
    "Data Source: https://www.kaggle.com/datasets/rakkesharv/spotify-top-10000-streamed-songs by, Rakkesh Aravind G (Kaggle)"
   ]
  },
  {
   "cell_type": "markdown",
   "id": "04235d4b",
   "metadata": {},
   "source": [
    "This dataset from Kaggle uses data scraped from the Spotify API to determine a song's total streams and ranks them 1 - 10,000."
   ]
  },
  {
   "cell_type": "markdown",
   "id": "5b3ac395",
   "metadata": {},
   "source": [
    "### Scope:"
   ]
  },
  {
   "cell_type": "markdown",
   "id": "1084ab02",
   "metadata": {},
   "source": [
    "In order to narrow the scope of data that I am analyzing, I will only use the top 1000 songs in the dataset to find the amount of top songs from one Artist, then combine the streams from all of these songs to determine total streams. Other data in this set, like peak streams, position, and days, will not be used as a factor in answering the question.  "
   ]
  },
  {
   "cell_type": "markdown",
   "id": "4d3e506c",
   "metadata": {},
   "source": [
    "### What are the Ethics of Narrowing Data?"
   ]
  },
  {
   "cell_type": "markdown",
   "id": "1f09619f",
   "metadata": {},
   "source": [
    "When deducting an answer from a smaller, more narrow subset, rather than the whole dataset, it is important to take into consideration the ethics of using this data and the inaccuracies that could be pursued. Sometimes, there could be outliers and other factors that would play a big role on how the data is perceived. There is a chance that these factors would even change the entire perspective of the question. For example, in  my subset, if I were only to use the top 1000 songs, this would not include any popular songs an artist has created past the 1000th song. Depending on the data, there could be an artist with many more popular songs just at a lower ranking. If this data was included, it could add to their total songs and thus affect their total streams, putting them at different positions in the ranking. By using a wider range, the results could vary greatly. \n",
    "\n",
    "Another aspect to take into consideration is the variables that are being left out with a smaller subset. Maybe an artist has had the most songs reach the number one peak position, but their name might not even appear on the chart at all. It is good to consider how these variables or outliers could possibly change the answer to the question. There are so many factors that play into the ethical side of asking and answering these questions and it's important to be considerate of this and how it can affect your data. For this same reason, be aware of the data you receive, as biases and the scope that is used can manipulate data to reflect how one may want it to be perceived.\n"
   ]
  },
  {
   "cell_type": "markdown",
   "id": "1947d10d",
   "metadata": {},
   "source": [
    "### Raw Data:"
   ]
  },
  {
   "cell_type": "code",
   "execution_count": 105,
   "id": "78594324",
   "metadata": {},
   "outputs": [
    {
     "data": {
      "text/html": [
       "<table border=\"1\" class=\"dataframe\">\n",
       "    <thead>\n",
       "        <tr>\n",
       "            <th>Position</th> <th>Artist Name</th> <th>Song Name</th> <th>Days</th> <th>Top 10 (xTimes)</th> <th>Peak Position</th> <th>Peak Position (xTimes)</th> <th>Peak Streams</th> <th>Total Streams</th>\n",
       "        </tr>\n",
       "    </thead>\n",
       "    <tbody>\n",
       "        <tr>\n",
       "            <td>1       </td> <td>Post Malone  </td> <td>Sunflower  SpiderMan: Into the SpiderVerse</td> <td>1506</td> <td>302            </td> <td>1            </td> <td>(x29)                 </td> <td>2118242     </td> <td>883369738    </td>\n",
       "        </tr>\n",
       "        <tr>\n",
       "            <td>2       </td> <td>Juice WRLD   </td> <td>Lucid Dreams                              </td> <td>1673</td> <td>178            </td> <td>1            </td> <td>(x20)                 </td> <td>2127668     </td> <td>864832399    </td>\n",
       "        </tr>\n",
       "        <tr>\n",
       "            <td>3       </td> <td>Lil Uzi Vert </td> <td>XO TOUR Llif3                             </td> <td>1853</td> <td>212            </td> <td>1            </td> <td>(x4)                  </td> <td>1660502     </td> <td>781153024    </td>\n",
       "        </tr>\n",
       "        <tr>\n",
       "            <td>4       </td> <td>J. Cole      </td> <td>No Role Modelz                            </td> <td>2547</td> <td>6              </td> <td>7            </td> <td>0                     </td> <td>659366      </td> <td>734857487    </td>\n",
       "        </tr>\n",
       "        <tr>\n",
       "            <td>5       </td> <td>Post Malone  </td> <td>rockstar                                  </td> <td>1223</td> <td>186            </td> <td>1            </td> <td>(x124)                </td> <td>2905678     </td> <td>718865961    </td>\n",
       "        </tr>\n",
       "        <tr>\n",
       "            <td>6       </td> <td>Travis Scott </td> <td>goosebumps                                </td> <td>1995</td> <td>4              </td> <td>8            </td> <td>0                     </td> <td>977275      </td> <td>672972704    </td>\n",
       "        </tr>\n",
       "        <tr>\n",
       "            <td>7       </td> <td>The Weeknd   </td> <td>Blinding Lights                           </td> <td>1100</td> <td>233            </td> <td>1            </td> <td>(x11)                 </td> <td>2355059     </td> <td>644287953    </td>\n",
       "        </tr>\n",
       "        <tr>\n",
       "            <td>8       </td> <td>XXXTENTACION </td> <td>Jocelyn Flores                            </td> <td>1673</td> <td>44             </td> <td>2            </td> <td>(x1)                  </td> <td>3175206     </td> <td>624457164    </td>\n",
       "        </tr>\n",
       "        <tr>\n",
       "            <td>9       </td> <td>XXXTENTACION </td> <td>SAD!                                      </td> <td>1217</td> <td>133            </td> <td>1            </td> <td>(x6)                  </td> <td>4437612     </td> <td>619879245    </td>\n",
       "        </tr>\n",
       "        <tr>\n",
       "            <td>10      </td> <td>Juice WRLD   </td> <td>All Girls Are The Same                    </td> <td>1681</td> <td>2              </td> <td>5            </td> <td>0                     </td> <td>1239152     </td> <td>613872384    </td>\n",
       "        </tr>\n",
       "    </tbody>\n",
       "</table>\n",
       "<p>... (11074 rows omitted)</p>"
      ],
      "text/plain": [
       "<IPython.core.display.HTML object>"
      ]
     },
     "metadata": {},
     "output_type": "display_data"
    }
   ],
   "source": [
    "Spotify_10000 = Table.read_table(\"Spotify_final_dataset.csv\")\n",
    "Spotify_10000.show(10)"
   ]
  },
  {
   "cell_type": "markdown",
   "id": "4b96acdf",
   "metadata": {},
   "source": [
    "### Data Wrangling:"
   ]
  },
  {
   "cell_type": "code",
   "execution_count": 107,
   "id": "b7c7bfda",
   "metadata": {},
   "outputs": [
    {
     "data": {
      "text/html": [
       "<table border=\"1\" class=\"dataframe\">\n",
       "    <thead>\n",
       "        <tr>\n",
       "            <th>Artist Name</th> <th>Song Name</th> <th>Total Streams</th>\n",
       "        </tr>\n",
       "    </thead>\n",
       "    <tbody>\n",
       "        <tr>\n",
       "            <td>Post Malone    </td> <td>Sunflower  SpiderMan: Into the SpiderVerse</td> <td>883369738    </td>\n",
       "        </tr>\n",
       "        <tr>\n",
       "            <td>Juice WRLD     </td> <td>Lucid Dreams                              </td> <td>864832399    </td>\n",
       "        </tr>\n",
       "        <tr>\n",
       "            <td>Lil Uzi Vert   </td> <td>XO TOUR Llif3                             </td> <td>781153024    </td>\n",
       "        </tr>\n",
       "        <tr>\n",
       "            <td>J. Cole        </td> <td>No Role Modelz                            </td> <td>734857487    </td>\n",
       "        </tr>\n",
       "        <tr>\n",
       "            <td>Post Malone    </td> <td>rockstar                                  </td> <td>718865961    </td>\n",
       "        </tr>\n",
       "        <tr>\n",
       "            <td>Travis Scott   </td> <td>goosebumps                                </td> <td>672972704    </td>\n",
       "        </tr>\n",
       "        <tr>\n",
       "            <td>The Weeknd     </td> <td>Blinding Lights                           </td> <td>644287953    </td>\n",
       "        </tr>\n",
       "        <tr>\n",
       "            <td>XXXTENTACION   </td> <td>Jocelyn Flores                            </td> <td>624457164    </td>\n",
       "        </tr>\n",
       "        <tr>\n",
       "            <td>XXXTENTACION   </td> <td>SAD!                                      </td> <td>619879245    </td>\n",
       "        </tr>\n",
       "        <tr>\n",
       "            <td>Juice WRLD     </td> <td>All Girls Are The Same                    </td> <td>613872384    </td>\n",
       "        </tr>\n",
       "        <tr>\n",
       "            <td>Kendrick Lamar </td> <td>HUMBLE.                                   </td> <td>606305588    </td>\n",
       "        </tr>\n",
       "        <tr>\n",
       "            <td>Post Malone    </td> <td>Circles                                   </td> <td>598521764    </td>\n",
       "        </tr>\n",
       "        <tr>\n",
       "            <td>Travis Scott   </td> <td>SICKO MODE                                </td> <td>586638599    </td>\n",
       "        </tr>\n",
       "        <tr>\n",
       "            <td>Lil Baby       </td> <td>Drip Too Hard (Lil Baby & Gunna)          </td> <td>583443174    </td>\n",
       "        </tr>\n",
       "        <tr>\n",
       "            <td>Post Malone    </td> <td>Congratulations                           </td> <td>546036924    </td>\n",
       "        </tr>\n",
       "    </tbody>\n",
       "</table>\n",
       "<p>... (985 rows omitted)</p>"
      ],
      "text/plain": [
       "<IPython.core.display.HTML object>"
      ]
     },
     "metadata": {},
     "output_type": "display_data"
    }
   ],
   "source": [
    "Spotify_Top_1000 = Spotify_10000.take(np.arange(1000)).drop(\"Position\", \"Days\", \"Top 10 (xTimes)\", \"Peak Position (xTimes)\" , \"Peak Streams\", \"Peak Position\")\n",
    "Spotify_Top_1000.show(15)"
   ]
  },
  {
   "cell_type": "markdown",
   "id": "c4943b9f",
   "metadata": {},
   "source": [
    "### Column Information:\n",
    "\n",
    "**Artist Name** - The name of the Artist that sang/created the song\n",
    "\n",
    "**Song Name** - The name of the song\n",
    "\n",
    "**Total Streams** - The total amount of streams the song has received\n",
    "\n",
    "### Removed:\n",
    "\n",
    "~**Position** - What rank the Song is based off stream total~\n",
    "\n",
    "~**Days** - The amount of days since the song has been released/made~\n",
    "\n",
    "~**Top 10 (x Times)** - The amount of days/time the song has been in the top 10 charts~\n",
    "\n",
    "~**Peak Position** - The highest position reached in the top 10 (1 being the highest)~\n",
    "\n",
    "~**Peak Position (x Times)** - How many times the song has reached its peak position~\n",
    "\n",
    "~**Peak Streams** - How many streams the song received when in peak position~ "
   ]
  },
  {
   "cell_type": "markdown",
   "id": "d82a85bb",
   "metadata": {},
   "source": [
    "To tidy the data, I removed the columns that were not necessary for drawing a conclusion for my data and didn't focus on the scope. I also narrowed the dataset down to 1,000 songs. I only need the above columns and some addiontal math functions to achieve the data for my answer. Further, I will separate the table into two additional categories, one that finds the number of top hits, and one that finds the total streams."
   ]
  },
  {
   "cell_type": "code",
   "execution_count": 106,
   "id": "6f9f4f2b",
   "metadata": {},
   "outputs": [
    {
     "data": {
      "text/html": [
       "<table border=\"1\" class=\"dataframe\">\n",
       "    <thead>\n",
       "        <tr>\n",
       "            <th>Artist Name</th> <th>Number of Top Hits</th>\n",
       "        </tr>\n",
       "    </thead>\n",
       "    <tbody>\n",
       "        <tr>\n",
       "            <td>Drake         </td> <td>41                </td>\n",
       "        </tr>\n",
       "        <tr>\n",
       "            <td>Post Malone   </td> <td>25                </td>\n",
       "        </tr>\n",
       "        <tr>\n",
       "            <td>Taylor Swift  </td> <td>21                </td>\n",
       "        </tr>\n",
       "        <tr>\n",
       "            <td>The Weeknd    </td> <td>21                </td>\n",
       "        </tr>\n",
       "        <tr>\n",
       "            <td>Ariana Grande </td> <td>18                </td>\n",
       "        </tr>\n",
       "        <tr>\n",
       "            <td>Bad Bunny     </td> <td>18                </td>\n",
       "        </tr>\n",
       "        <tr>\n",
       "            <td>Juice WRLD    </td> <td>16                </td>\n",
       "        </tr>\n",
       "        <tr>\n",
       "            <td>Billie Eilish </td> <td>14                </td>\n",
       "        </tr>\n",
       "        <tr>\n",
       "            <td>Lil Uzi Vert  </td> <td>14                </td>\n",
       "        </tr>\n",
       "        <tr>\n",
       "            <td>XXXTENTACION  </td> <td>13                </td>\n",
       "        </tr>\n",
       "    </tbody>\n",
       "</table>"
      ],
      "text/plain": [
       "<IPython.core.display.HTML object>"
      ]
     },
     "metadata": {},
     "output_type": "display_data"
    }
   ],
   "source": [
    "#Takes top 10 Artists and compares the amount of songs they have in the top 1000\n",
    "Top_Artist_Song_Amount = Spotify_Top_1000.group('Artist Name').select('Artist Name', 'count').sort('count', descending = True).relabeled('count', 'Number of Top Hits').take(np.arange(10))\n",
    "Top_Artist_Song_Amount.show()"
   ]
  },
  {
   "cell_type": "markdown",
   "id": "4ecc8c57",
   "metadata": {},
   "source": [
    "This table uses the amount of songs and asigns them to the creator and finds the amount of popular songs that they have made."
   ]
  },
  {
   "cell_type": "code",
   "execution_count": 112,
   "id": "924f40a0",
   "metadata": {},
   "outputs": [
    {
     "data": {
      "text/html": [
       "<table border=\"1\" class=\"dataframe\">\n",
       "    <thead>\n",
       "        <tr>\n",
       "            <th>Artist Name</th> <th>Total Streams</th> <th>Rank</th>\n",
       "        </tr>\n",
       "    </thead>\n",
       "    <tbody>\n",
       "        <tr>\n",
       "            <td>Drake         </td> <td>6788989235   </td> <td>1   </td>\n",
       "        </tr>\n",
       "        <tr>\n",
       "            <td>Post Malone   </td> <td>6648004900   </td> <td>2   </td>\n",
       "        </tr>\n",
       "        <tr>\n",
       "            <td>Juice WRLD    </td> <td>3979114900   </td> <td>3   </td>\n",
       "        </tr>\n",
       "        <tr>\n",
       "            <td>The Weeknd    </td> <td>3500035373   </td> <td>4   </td>\n",
       "        </tr>\n",
       "        <tr>\n",
       "            <td>XXXTENTACION  </td> <td>3374637732   </td> <td>5   </td>\n",
       "        </tr>\n",
       "        <tr>\n",
       "            <td>Billie Eilish </td> <td>2587306253   </td> <td>6   </td>\n",
       "        </tr>\n",
       "        <tr>\n",
       "            <td>Ariana Grande </td> <td>2418370480   </td> <td>7   </td>\n",
       "        </tr>\n",
       "        <tr>\n",
       "            <td>Travis Scott  </td> <td>2350898402   </td> <td>8   </td>\n",
       "        </tr>\n",
       "        <tr>\n",
       "            <td>Lil Uzi Vert  </td> <td>2350415250   </td> <td>9   </td>\n",
       "        </tr>\n",
       "        <tr>\n",
       "            <td>Bad Bunny     </td> <td>2053729459   </td> <td>10  </td>\n",
       "        </tr>\n",
       "    </tbody>\n",
       "</table>"
      ],
      "text/plain": [
       "<IPython.core.display.HTML object>"
      ]
     },
     "metadata": {},
     "output_type": "display_data"
    }
   ],
   "source": [
    "# Takes top 10 Artists and compares the amount of songs they have in the top 1000\n",
    "Artist_Stream_Amount = Spotify_Top_1000.group('Artist Name', np.sum).select('Artist Name', 'Total Streams sum').sort('Total Streams sum', descending = True).relabeled('Total Streams sum', 'Total Streams').with_column(\n",
    "'Rank', np.array(np.arange(1,375))\n",
    ").take(np.arange(10))\n",
    "Artist_Stream_Amount.show()"
   ]
  },
  {
   "cell_type": "markdown",
   "id": "16d42591",
   "metadata": {},
   "source": [
    " This table takes the sum of the streams from all of their songs and produces the total streams each artist has."
   ]
  },
  {
   "cell_type": "markdown",
   "id": "ba6c02e3",
   "metadata": {},
   "source": [
    "## - Exploring the Data -"
   ]
  },
  {
   "cell_type": "markdown",
   "id": "7d94761e",
   "metadata": {},
   "source": [
    "### Possible Questions?"
   ]
  },
  {
   "cell_type": "markdown",
   "id": "5ad1d7d6",
   "metadata": {},
   "source": [
    "#### Taylor Swift had many hit songs. Why does she not have a high amount of total streams?\n",
    "* Taylor Swift is an outlier in this data because she has the 3rd highest number of hit songs, but does not even appear on the highest total streams table. This could be because Taylor Swift's songs, though she has many, are all ranked lower in the top 1000. This would bring down her total stream count because other artist's have had more popular hit songs, therefore gathering more streams.\n",
    "    \n",
    "#### Why is Post Malone's total stream count almost as high as Drake's even though he has significantly less popular songs?\n",
    "\n",
    "* Post Malone is a similar outlier in this case, but, even though he has half the amount of hit songs that Drake has, he has such a high amount of streams. This is because a couple of his songs were ranked high on the most streamed songs list. For example, *SunFlower by: Post Malone* being the most streamed song overall. Due to this, his total stream count will be much higher. \n",
    "\n",
    "#### Why does the removed data not affect the results?\n",
    "\n",
    "* While this data could affect my answer if I were focusing on a different aspect, due to my scope narrowing on the total amount of streams, certain data like days, peak streams, and peak positions do not matter for my calculations/analyzation. Since they are temporary values, they wil not affect the total value of the data that applies to my scope. "
   ]
  },
  {
   "cell_type": "markdown",
   "id": "ba7ff130",
   "metadata": {},
   "source": [
    "### Observations:"
   ]
  },
  {
   "cell_type": "markdown",
   "id": "f0994be3",
   "metadata": {},
   "source": [
    "* **Using the newly wrangled data, I am able to observe how both tables correlate with one another**\n",
    "\n",
    "\n",
    "  1. Between both tables of data, *8/10* of the top artists remain the same and consistent with their placement\n",
    "  2. Further, *half* of these top artists are in the exact same place/ranking\n",
    "  3. The remaing artists only moving *1-2* placements up or down \n",
    "* **This allows one to gather that there is a valid correlation between the amount of hit songs and total streams**\n",
    "    1. The *higher the amount of hit songs*, the more likely the artist will have a *higher amount of total streams*\n",
    "    2. This connection provides a basis for answering the main question"
   ]
  },
  {
   "cell_type": "markdown",
   "id": "900ab2ff",
   "metadata": {},
   "source": [
    "## - Results & Data Visualization -"
   ]
  },
  {
   "cell_type": "markdown",
   "id": "93ea4153",
   "metadata": {},
   "source": [
    "### Bar Chart that Ranks Artists Based Off of Total Number of Top Hits they Have:"
   ]
  },
  {
   "cell_type": "code",
   "execution_count": 108,
   "id": "a066ae68",
   "metadata": {},
   "outputs": [
    {
     "data": {
      "image/png": "[encoded data removed]",
      "text/plain": [
       "<Figure size 600x500 with 1 Axes>"
      ]
     },
     "metadata": {},
     "output_type": "display_data"
    }
   ],
   "source": [
    "Top_Artist_Song_Amount.barh('Artist Name','Number of Top Hits')"
   ]
  },
  {
   "cell_type": "markdown",
   "id": "7a3f3009",
   "metadata": {},
   "source": [
    "The diagram above is a horizontal bar graph displaying the total number of top hits each artist has in the dataset. On the Y axis are the names of the top 10 artists in order from most songs to least songs. On the X axis, there are bins split into 5's starting from 0-40. This number represents the total number of top hits/songs.\n",
    "\n",
    "As described above, this bar graph shows Drake having the highest number of top hits out of the 1000 most streamed songs on Spotify by a large margin. The rest of the singers on average have about 15 popular songs."
   ]
  },
  {
   "cell_type": "markdown",
   "id": "b89e14cf",
   "metadata": {},
   "source": [
    "### Bar Chart that Ranks Artists Based Off of Total Amount of Streams they Have:"
   ]
  },
  {
   "cell_type": "code",
   "execution_count": 113,
   "id": "f32f73fb",
   "metadata": {
    "scrolled": false
   },
   "outputs": [
    {
     "data": {
      "image/png": "[encoded data removed]",
      "text/plain": [
       "<Figure size 600x500 with 1 Axes>"
      ]
     },
     "metadata": {},
     "output_type": "display_data"
    }
   ],
   "source": [
    "Artist_Stream_Amount = Spotify_Top_1000.group('Artist Name', np.sum).select('Artist Name', 'Total Streams sum').sort('Total Streams sum', descending = True).relabeled('Total Streams sum', 'Total Streams(in Trillions)').with_column(\n",
    "'Rank', np.array(np.arange(1,375))\n",
    ").take(np.arange(10))\n",
    "Artist_Stream_Amount.barh('Artist Name','Total Streams(in Trillions)')"
   ]
  },
  {
   "cell_type": "markdown",
   "id": "ae924d04",
   "metadata": {},
   "source": [
    "The second visual is also a horizontal bar graph. This one represents the total amount of streams an artist has accumulated with all of their top songs. On the Y-axis, we have the top 10 artists with the most streams, and they are descending from most to least. On the X-axis, we have values of 0-7 that are represented in trillions. This is for the total streams each artist has. \n",
    "\n",
    "This chart shows Drake also has the highest total number of streams with almost 7 trillion streams, followed by Post Malone. The rest of the 8 singers have a total amount of streams between 2 trillion and 4 trillion. This is a significant margin again between the top singer and the rest of the top 10 artists.  "
   ]
  },
  {
   "cell_type": "markdown",
   "id": "0ac9c203",
   "metadata": {},
   "source": [
    "### Analysis: "
   ]
  },
  {
   "cell_type": "markdown",
   "id": "803a04a9",
   "metadata": {},
   "source": [
    "**Conclusion:** Out of the top 10 artists, Drake shows the highest numbers by a large margin from everyone else. As stated in the observations above, the ranking of each artist remains relatively consistent between both graphs. Thus, providing a basis and logical data to make an evaluation. Using this information, and the visuals provided, it appears that Drake is considered the most listened to artist on Spotify. This answer is evident by his number one ranking on both the number of hit songs graph and the total streams graph. He had more hit songs in the top 1000 most streamed songs dataset, and  therefore was able to accumulate a large amount of streams from all of his popular songs. With this data proving his \"popularity\" and likeability amongst music listeners, one could gather that his music genre, creation, and style are enjoyed by a large majority, contributing to his status as the most listened to artist on spotify\n",
    "\n",
    "**NOTE:** This data should be taken with a grain of salt because it is from an older dataset which screws these results by a couple of years. However, this is expected with data as it hard to get the most recent data, when typically it is still being collected, and those statistics/results take time to gather. \n",
    "\n",
    "**What's Next?** As touched on in the beginning when addressing the question, analyzing this data not only helps with the task at hand, but also opens a door of opportunity for many more questions and ideas. One could use this to develop a pattern to see the change in results over a time period. Then analyze how music taste in general has shifted over generations etc. There are so many possibilities and answering questions is just a gateway to more and more questions and answers. The world seems to be filled with endless knowledge, and questions are the core of obtaining this information.\n"
   ]
  },
  {
   "cell_type": "code",
   "execution_count": null,
   "id": "897fa713",
   "metadata": {},
   "outputs": [],
   "source": []
  }
 ],
 "metadata": {
  "kernelspec": {
   "display_name": "Python 3 (ipykernel)",
   "language": "python",
   "name": "python3"
  },
  "language_info": {
   "codemirror_mode": {
    "name": "ipython",
    "version": 3
   },
   "file_extension": ".py",
   "mimetype": "text/x-python",
   "name": "python",
   "nbconvert_exporter": "python",
   "pygments_lexer": "ipython3",
   "version": "3.10.11"
  }
 },
 "nbformat": 4,
 "nbformat_minor": 5
}
